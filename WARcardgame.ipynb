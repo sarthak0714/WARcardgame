{
 "cells": [
  {
   "cell_type": "code",
   "execution_count": 4,
   "metadata": {},
   "outputs": [],
   "source": [
    "import random\n",
    "suits = (\"Diamond\",'Hearts','Spades','Clubs')\n",
    "ranks = ('One','Two','Three','Four','Five','Six','Seven','Eight','Nine','Jack','Queen','King','Ace')\n",
    "values = {'Two':2,'Three':3,'Four':4,'Five':5,'Six':6,'Seven':7,'Eight':8,'Nine':9,'Ten':10,'Jack':11,'Queen':12,'King':13,'Ace':14}"
   ]
  },
  {
   "cell_type": "code",
   "execution_count": 5,
   "metadata": {},
   "outputs": [],
   "source": [
    "class Card:\n",
    "    def __init__(self,suit,rank):\n",
    "        self.suit= suit\n",
    "        self.rank= rank\n",
    "        self.value=values[rank]\n",
    "\n",
    "    def __str__(self):\n",
    "        return self.rank + ' of ' + self.suit\n"
   ]
  },
  {
   "cell_type": "code",
   "execution_count": 7,
   "metadata": {},
   "outputs": [
    {
     "name": "stdout",
     "output_type": "stream",
     "text": [
      "Two of Clubs\n"
     ]
    }
   ],
   "source": [
    "class Deck:\n",
    "\n",
    "    def __init__(self):\n",
    "        self.all_cards=[]\n",
    "\n",
    "        for suit in suits:\n",
    "            for rank in ranks:\n",
    "                new_card=Card(suit,rank)\n",
    "                self.all_cards.append(new_card)\n",
    "    \n",
    "    def shuffle(self):\n",
    "        random.shuffle(self.all_cards)\n",
    "\n",
    "    def deal_one(self):\n",
    "        return self.all_cards.pop()\n"
   ]
  },
  {
   "cell_type": "code",
   "execution_count": null,
   "metadata": {},
   "outputs": [],
   "source": [
    "class Player:\n",
    "\n",
    "    def __init__(self,name):\n",
    "        self.name=name\n",
    "        self.all_cards=[]\n",
    "\n",
    "    def remove_one(self):\n",
    "        return self.all_cards.pop(0)\n",
    "\n",
    "    def add_cards(self,new_cards):\n",
    "        if type(new_cards) == type([]):\n",
    "            self.all_cards.extend(new_cards)\n",
    "        else:\n",
    "            self.all_cards.append(new_cards) \n",
    "\n",
    "    def __str__(self):\n",
    "        return f'Player {self.name} has {len(self.add_cards)} cards.'\n",
    "\n"
   ]
  },
  {
   "cell_type": "code",
   "execution_count": null,
   "metadata": {},
   "outputs": [],
   "source": [
    "#GAME SETUP\n",
    "\n",
    "player_one= Player('one')\n",
    "player_two=Player('two')\n",
    "\n",
    "new_deck=Deck()\n",
    "new_deck.shuffle()\n",
    "\n",
    "for x in range(26):\n",
    "    player_one.add_cards(new_deck.deal_one())\n",
    "    player_two.add_cards(new_deck.deal_one())"
   ]
  },
  {
   "cell_type": "code",
   "execution_count": 9,
   "metadata": {},
   "outputs": [],
   "source": [
    "game_on=True"
   ]
  },
  {
   "cell_type": "code",
   "execution_count": null,
   "metadata": {},
   "outputs": [],
   "source": [
    "round_no=0\n",
    "\n",
    "while game_on:\n",
    "    round_no+=1\n",
    "    print(f'Round {round_no}.')\n",
    "\n",
    "    if len(player_one.all_cards==0):\n",
    "        print('Player One is out of cards! Player Two won!.')\n",
    "        game_on=False\n",
    "        break\n",
    "\n",
    "    if len(player_two.all_cards==0):\n",
    "        print('Player Two is out of cards! Player One won!.')\n",
    "        game_on=False\n",
    "        break\n",
    "    \n",
    "    #NEW ROUND\n",
    "\n",
    "    player_one_cards=[]\n",
    "    player_one_cards.append(player_one.remove_one())\n",
    "\n",
    "    player_two_cards=[]\n",
    "    player_two_cards.append(player_two.remove_one())\n",
    "\n",
    "    comparison_check= True\n",
    "\n",
    "    while comparison_check == True:\n",
    "\n",
    "        if player_one_cards.value[-1]>player_two_cards.value[-1]:\n",
    "            player_one.add_cards(player_one_cards)\n",
    "            player_one.add_cards(player_two_cards)\n",
    "\n",
    "            comparison_check=False\n",
    "\n",
    "        elif player_one_cards.value[-1]<player_two_cards.value[-1]:\n",
    "            player_two.add_cards(player_one_cards)\n",
    "            player_two.add_cards(player_two_cards)\n",
    "\n",
    "            comparison_check=False\n",
    "\n",
    "        else:\n",
    "            war=True\n",
    "\n",
    "            while war==True:\n",
    "                \n"
   ]
  }
 ],
 "metadata": {
  "kernelspec": {
   "display_name": "Python 3.8.8 ('base')",
   "language": "python",
   "name": "python3"
  },
  "language_info": {
   "codemirror_mode": {
    "name": "ipython",
    "version": 3
   },
   "file_extension": ".py",
   "mimetype": "text/x-python",
   "name": "python",
   "nbconvert_exporter": "python",
   "pygments_lexer": "ipython3",
   "version": "3.8.8"
  },
  "orig_nbformat": 4,
  "vscode": {
   "interpreter": {
    "hash": "c1553e03d450b41b041cf711c2b74552d712209f9a5d1e96a173763e0a899d5b"
   }
  }
 },
 "nbformat": 4,
 "nbformat_minor": 2
}
